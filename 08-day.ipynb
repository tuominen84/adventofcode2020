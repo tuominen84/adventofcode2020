{
 "cells": [
  {
   "cell_type": "code",
   "execution_count": 1,
   "metadata": {},
   "outputs": [
    {
     "data": {
      "text/plain": [
       "[[0, 'nop', 0],\n",
       " [0, 'acc', 1],\n",
       " [0, 'jmp', 4],\n",
       " [0, 'acc', 3],\n",
       " [0, 'jmp', -3],\n",
       " [0, 'acc', -99],\n",
       " [0, 'acc', 1],\n",
       " [0, 'jmp', -4],\n",
       " [0, 'acc', 6]]"
      ]
     },
     "execution_count": 1,
     "metadata": {},
     "output_type": "execute_result"
    }
   ],
   "source": [
    "def load_data(fname):\n",
    "    with open(fname) as f:\n",
    "        data = [(0, *(op.split())) for op in f.readlines()]\n",
    "    \n",
    "    return [ [ x[0], x[1], int(x[2]) ] for x in data]\n",
    "\n",
    "load_data('inputs/08-test-input')"
   ]
  },
  {
   "cell_type": "code",
   "execution_count": 34,
   "metadata": {},
   "outputs": [],
   "source": [
    "commands = {'nop': lambda c,a,x: (c + 1, a),\n",
    "             'acc': lambda c,a,x: (c + 1, a + x),\n",
    "             'jmp': lambda c,a,x: (c + x, a) }"
   ]
  },
  {
   "cell_type": "code",
   "execution_count": 3,
   "metadata": {},
   "outputs": [
    {
     "name": "stdout",
     "output_type": "stream",
     "text": [
      "1 [1, 'nop', 0]\n",
      "2 [1, 'acc', 1]\n",
      "6 [1, 'jmp', 4]\n",
      "7 [1, 'acc', 1]\n",
      "3 [1, 'jmp', -4]\n",
      "4 [1, 'acc', 3]\n",
      "1 [1, 'jmp', -3]\n"
     ]
    }
   ],
   "source": [
    "cmds = load_data('inputs/08-test-input')\n",
    "cursor = 0\n",
    "accumulator = 0\n",
    "i = 0\n",
    "while cmds[cursor][0] != 1:\n",
    "    command = cmds[cursor]\n",
    "    command[0] = 1\n",
    "    if command[1] == 'nop':\n",
    "        cursor += 1\n",
    "    elif command[1] == 'acc':\n",
    "        accumulator += command[2]\n",
    "        cursor += 1\n",
    "    elif command[1] == 'jmp':\n",
    "        cursor += command[2]\n",
    "    print(cursor, command)\n",
    "    i += 1"
   ]
  },
  {
   "cell_type": "code",
   "execution_count": 4,
   "metadata": {},
   "outputs": [
    {
     "data": {
      "text/plain": [
       "5"
      ]
     },
     "execution_count": 4,
     "metadata": {},
     "output_type": "execute_result"
    }
   ],
   "source": [
    "accumulator"
   ]
  },
  {
   "cell_type": "code",
   "execution_count": 9,
   "metadata": {
    "scrolled": true
   },
   "outputs": [
    {
     "name": "stdout",
     "output_type": "stream",
     "text": [
      "1 [1, 'acc', 29] 29\n",
      "2 [1, 'acc', 0] 29\n",
      "3 [1, 'acc', 36] 65\n",
      "295 [1, 'jmp', 292] 65\n",
      "296 [1, 'acc', 31] 96\n",
      "297 [1, 'nop', 31] 96\n",
      "298 [1, 'acc', 35] 131\n",
      "299 [1, 'acc', 42] 173\n",
      "91 [1, 'jmp', -208] 173\n",
      "92 [1, 'acc', 17] 190\n",
      "238 [1, 'jmp', 146] 190\n",
      "239 [1, 'nop', -33] 190\n",
      "240 [1, 'nop', -167] 190\n",
      "66 [1, 'jmp', -174] 190\n",
      "67 [1, 'nop', 363] 190\n",
      "68 [1, 'acc', 46] 236\n",
      "69 [1, 'acc', 27] 263\n",
      "70 [1, 'acc', -4] 259\n",
      "449 [1, 'jmp', 379] 259\n",
      "450 [1, 'acc', 3] 262\n",
      "451 [1, 'acc', 28] 290\n",
      "452 [1, 'nop', -227] 290\n",
      "568 [1, 'jmp', 116] 290\n",
      "303 [1, 'jmp', -265] 290\n",
      "304 [1, 'nop', -170] 290\n",
      "305 [1, 'acc', -4] 286\n",
      "306 [1, 'acc', 22] 308\n",
      "307 [1, 'acc', 9] 317\n",
      "602 [1, 'jmp', 295] 317\n",
      "28 [1, 'jmp', -574] 317\n",
      "84 [1, 'jmp', 56] 317\n",
      "191 [1, 'jmp', 107] 317\n",
      "192 [1, 'acc', -11] 306\n",
      "193 [1, 'acc', 35] 341\n",
      "194 [1, 'nop', 409] 341\n",
      "195 [1, 'acc', 2] 343\n",
      "278 [1, 'jmp', 83] 343\n",
      "279 [1, 'acc', 32] 375\n",
      "280 [1, 'acc', -7] 368\n",
      "281 [1, 'acc', 34] 402\n",
      "345 [1, 'jmp', 64] 402\n",
      "346 [1, 'acc', 21] 423\n",
      "232 [1, 'jmp', -114] 423\n",
      "16 [1, 'jmp', -216] 423\n",
      "17 [1, 'acc', 4] 427\n",
      "18 [1, 'acc', 12] 439\n",
      "180 [1, 'jmp', 162] 439\n",
      "286 [1, 'jmp', 106] 439\n",
      "287 [1, 'acc', 49] 488\n",
      "288 [1, 'acc', 23] 511\n",
      "289 [1, 'acc', 46] 557\n",
      "520 [1, 'jmp', 231] 557\n",
      "618 [1, 'jmp', 98] 557\n",
      "619 [1, 'nop', -164] 557\n",
      "157 [1, 'jmp', -462] 557\n",
      "158 [1, 'acc', -17] 540\n",
      "159 [1, 'acc', 9] 549\n",
      "269 [1, 'jmp', 110] 549\n",
      "270 [1, 'acc', 40] 589\n",
      "271 [1, 'acc', 36] 625\n",
      "272 [1, 'nop', 32] 625\n",
      "533 [1, 'jmp', 261] 625\n",
      "534 [1, 'acc', -14] 611\n",
      "535 [1, 'acc', -16] 595\n",
      "96 [1, 'jmp', -439] 595\n",
      "578 [1, 'jmp', 482] 595\n",
      "579 [1, 'acc', 3] 598\n",
      "580 [1, 'acc', -10] 588\n",
      "581 [1, 'acc', 28] 616\n",
      "205 [1, 'jmp', -376] 616\n",
      "206 [1, 'nop', -20] 616\n",
      "54 [1, 'jmp', -152] 616\n",
      "55 [1, 'jmp', 1] 616\n",
      "539 [1, 'jmp', 484] 616\n",
      "540 [1, 'acc', 1] 617\n",
      "541 [1, 'nop', -254] 617\n",
      "542 [1, 'acc', 11] 628\n",
      "470 [1, 'jmp', -72] 628\n",
      "22 [1, 'jmp', -448] 628\n",
      "23 [1, 'acc', 19] 647\n",
      "408 [1, 'jmp', 385] 647\n",
      "409 [1, 'acc', 5] 652\n",
      "622 [1, 'jmp', 213] 652\n",
      "623 [1, 'acc', 15] 667\n",
      "185 [1, 'jmp', -438] 667\n",
      "186 [1, 'nop', 354] 667\n",
      "187 [1, 'acc', 20] 687\n",
      "188 [1, 'acc', -11] 676\n",
      "251 [1, 'jmp', 63] 676\n",
      "252 [1, 'nop', 76] 676\n",
      "253 [1, 'acc', 47] 723\n",
      "254 [1, 'acc', 5] 728\n",
      "104 [1, 'jmp', -150] 728\n",
      "105 [1, 'acc', 30] 758\n",
      "106 [1, 'nop', -33] 758\n",
      "107 [1, 'acc', 49] 807\n",
      "108 [1, 'acc', 40] 847\n",
      "265 [1, 'jmp', 157] 847\n",
      "266 [1, 'acc', 33] 880\n",
      "267 [1, 'acc', 34] 914\n",
      "612 [1, 'jmp', 345] 914\n",
      "123 [1, 'jmp', -489] 914\n",
      "124 [1, 'acc', -19] 895\n",
      "125 [1, 'acc', 38] 933\n",
      "126 [1, 'acc', -15] 918\n",
      "127 [1, 'acc', 0] 918\n",
      "208 [1, 'jmp', 81] 918\n",
      "209 [1, 'nop', -161] 918\n",
      "210 [1, 'nop', -76] 918\n",
      "211 [1, 'acc', 34] 952\n",
      "212 [1, 'nop', -202] 952\n",
      "114 [1, 'jmp', -98] 952\n",
      "333 [1, 'jmp', 219] 952\n",
      "334 [1, 'nop', -254] 952\n",
      "335 [1, 'acc', 12] 964\n",
      "336 [1, 'nop', 277] 964\n",
      "441 [1, 'jmp', 105] 964\n",
      "442 [1, 'acc', -16] 948\n",
      "402 [1, 'jmp', -40] 948\n",
      "403 [1, 'acc', 5] 953\n",
      "404 [1, 'nop', -125] 953\n",
      "405 [1, 'nop', -7] 953\n",
      "406 [1, 'acc', 41] 994\n",
      "140 [1, 'jmp', -266] 994\n",
      "141 [1, 'jmp', 1] 994\n",
      "142 [1, 'acc', 39] 1033\n",
      "143 [1, 'acc', 35] 1068\n",
      "144 [1, 'acc', 27] 1095\n",
      "445 [1, 'jmp', 301] 1095\n",
      "446 [1, 'acc', 17] 1112\n",
      "447 [1, 'acc', 20] 1132\n",
      "370 [1, 'jmp', -77] 1132\n",
      "371 [1, 'acc', 7] 1139\n",
      "359 [1, 'jmp', -12] 1139\n",
      "118 [1, 'jmp', -241] 1139\n",
      "119 [1, 'jmp', 1] 1139\n",
      "397 [1, 'jmp', 278] 1139\n",
      "398 [1, 'acc', -18] 1121\n",
      "224 [1, 'jmp', -174] 1121\n",
      "225 [1, 'acc', 8] 1129\n",
      "226 [1, 'acc', -5] 1124\n",
      "227 [1, 'acc', 9] 1133\n",
      "40 [1, 'jmp', -187] 1133\n",
      "41 [1, 'nop', 465] 1133\n",
      "42 [1, 'acc', 43] 1176\n",
      "597 [1, 'jmp', 555] 1176\n",
      "598 [1, 'acc', 0] 1176\n",
      "599 [1, 'acc', -9] 1167\n",
      "341 [1, 'jmp', -258] 1167\n",
      "342 [1, 'acc', 9] 1176\n",
      "60 [1, 'jmp', -282] 1176\n",
      "318 [1, 'jmp', 258] 1176\n",
      "319 [1, 'acc', 43] 1219\n",
      "320 [1, 'acc', 12] 1231\n",
      "321 [1, 'acc', 6] 1237\n",
      "322 [1, 'acc', 5] 1242\n",
      "547 [1, 'jmp', 225] 1242\n",
      "548 [1, 'acc', 26] 1268\n",
      "549 [1, 'acc', 8] 1276\n",
      "550 [1, 'acc', 19] 1295\n",
      "245 [1, 'jmp', -305] 1295\n",
      "246 [1, 'acc', 48] 1343\n",
      "247 [1, 'acc', 37] 1380\n",
      "248 [1, 'acc', 35] 1415\n",
      "571 [1, 'jmp', 323] 1415\n",
      "572 [1, 'acc', 27] 1442\n",
      "573 [1, 'nop', -340] 1442\n",
      "511 [1, 'jmp', -62] 1442\n",
      "512 [1, 'acc', -9] 1433\n",
      "513 [1, 'acc', 42] 1475\n",
      "514 [1, 'acc', 6] 1481\n",
      "515 [1, 'acc', -18] 1463\n",
      "32 [1, 'jmp', -483] 1463\n",
      "33 [1, 'acc', 28] 1491\n",
      "256 [1, 'jmp', 223] 1491\n",
      "257 [1, 'acc', -1] 1490\n",
      "454 [1, 'jmp', 197] 1490\n",
      "455 [1, 'acc', 16] 1506\n",
      "381 [1, 'jmp', -74] 1506\n",
      "382 [1, 'acc', 41] 1547\n",
      "383 [1, 'nop', 76] 1547\n",
      "384 [1, 'acc', 22] 1569\n",
      "606 [1, 'jmp', 222] 1569\n",
      "607 [1, 'acc', 34] 1603\n",
      "608 [1, 'nop', -493] 1603\n",
      "609 [1, 'acc', 42] 1645\n",
      "150 [1, 'jmp', -459] 1645\n",
      "151 [1, 'acc', 38] 1683\n",
      "484 [1, 'jmp', 333] 1683\n",
      "485 [1, 'acc', 33] 1716\n",
      "486 [1, 'acc', 28] 1744\n",
      "487 [1, 'nop', -241] 1744\n",
      "488 [1, 'acc', -6] 1738\n",
      "490 [1, 'jmp', 2] 1738\n",
      "491 [1, 'acc', 15] 1753\n",
      "492 [1, 'nop', -351] 1753\n",
      "238 [1, 'jmp', -254] 1753\n"
     ]
    },
    {
     "data": {
      "text/plain": [
       "1753"
      ]
     },
     "execution_count": 9,
     "metadata": {},
     "output_type": "execute_result"
    }
   ],
   "source": [
    "\n",
    "def check_program(cmds):\n",
    "    cursor = 0\n",
    "    accumulator = 0\n",
    "    while cmds[cursor][0] != 1:\n",
    "        command = cmds[cursor]\n",
    "        cmds[cursor][0] = 1\n",
    "        cursor, accumulator = commands[command[1]](cursor, accumulator, command[2])\n",
    "        print(cursor, command, accumulator)\n",
    "    return accumulator\n",
    "\n",
    "check_program(load_data('inputs/08-input'))"
   ]
  },
  {
   "cell_type": "code",
   "execution_count": 30,
   "metadata": {},
   "outputs": [
    {
     "data": {
      "text/plain": [
       "[[0, 'nop', 0],\n",
       " [0, 'acc', 1],\n",
       " [0, 'jmp', 4],\n",
       " [0, 'acc', 3],\n",
       " [0, 'jmp', -3],\n",
       " [0, 'acc', -99],\n",
       " [0, 'acc', 1],\n",
       " [0, 'jmp', -4],\n",
       " [0, 'acc', 6]]"
      ]
     },
     "execution_count": 30,
     "metadata": {},
     "output_type": "execute_result"
    }
   ],
   "source": [
    "load_data('inputs/08-test-input')"
   ]
  },
  {
   "cell_type": "code",
   "execution_count": 58,
   "metadata": {},
   "outputs": [
    {
     "data": {
      "text/plain": [
       "('loop', 5)"
      ]
     },
     "execution_count": 58,
     "metadata": {},
     "output_type": "execute_result"
    }
   ],
   "source": [
    "c = [[0, 'nop', 0],\n",
    " [0, 'acc', 1],\n",
    " [0, 'jmp', 4], ### jmp ->nop\n",
    " [0, 'acc', 3],\n",
    " [0, 'jmp', -3],\n",
    " [0, 'acc', -99],\n",
    " [0, 'acc', 1],\n",
    " [0, 'jmp', -4],\n",
    " [0, 'acc', 6]]\n",
    "def check_program(cmds):\n",
    "    cursor = 0\n",
    "    accumulator = 0\n",
    "    runned = [0 for _ in range(len(cmds))]\n",
    "    try:\n",
    "        while runned[cursor] != 1:\n",
    "            command = cmds[cursor]\n",
    "            runned[cursor] = 1\n",
    "            cursor, accumulator = commands[command[1]](cursor, accumulator, command[2])\n",
    "            #print(cursor, command, accumulator)\n",
    "        return ('loop', accumulator)\n",
    "    except IndexError:\n",
    "        return 'end', accumulator\n",
    "\n",
    "check_program(c)"
   ]
  },
  {
   "cell_type": "code",
   "execution_count": 61,
   "metadata": {},
   "outputs": [
    {
     "name": "stdout",
     "output_type": "stream",
     "text": [
      "\n",
      "xxx end 733\n"
     ]
    }
   ],
   "source": [
    "import copy\n",
    "\n",
    "cmds = load_data('inputs/08-input')\n",
    "print()\n",
    "jumps = [(i,c) for i,c in enumerate(cmds) if c[1] == 'jmp']\n",
    "for i, c in jumps:\n",
    "    tmp_cmds = copy.deepcopy(cmds)\n",
    "    #print('yyy', tmp_cmds[i])\n",
    "    tmp_cmds[i][1] = 'nop'\n",
    "    end_code, acc = check_program(tmp_cmds)\n",
    "    if end_code == 'end':\n",
    "        break\n",
    "\n",
    "print(\"xxx\", end_code, acc)"
   ]
  },
  {
   "cell_type": "code",
   "execution_count": null,
   "metadata": {},
   "outputs": [],
   "source": []
  }
 ],
 "metadata": {
  "kernelspec": {
   "display_name": "Python 3",
   "language": "python",
   "name": "python3"
  },
  "language_info": {
   "codemirror_mode": {
    "name": "ipython",
    "version": 3
   },
   "file_extension": ".py",
   "mimetype": "text/x-python",
   "name": "python",
   "nbconvert_exporter": "python",
   "pygments_lexer": "ipython3",
   "version": "3.7.7"
  }
 },
 "nbformat": 4,
 "nbformat_minor": 4
}
