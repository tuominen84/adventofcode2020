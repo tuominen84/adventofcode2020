{
 "cells": [
  {
   "cell_type": "code",
   "execution_count": 34,
   "metadata": {},
   "outputs": [
    {
     "name": "stdout",
     "output_type": "stream",
     "text": [
      "50047984\n"
     ]
    }
   ],
   "source": [
    "from itertools import combinations\n",
    "from collections import deque\n",
    "\n",
    "def load_data(fn):\n",
    "    with open(fn, 'r') as f:\n",
    "        return [int(x) for x in f.readlines()]\n",
    "\n",
    "def is_sum(numbers, num):\n",
    "    return num in [x1+x2 for x1,x2 in combinations(numbers, 2)]\n",
    "\n",
    "nums = load_data('inputs/09-input')\n",
    "pre_length = 25\n",
    "pre = deque(nums[:pre_length], pre_length)\n",
    "for n in nums[pre_length:]:\n",
    "    if not is_sum(pre, n):\n",
    "        print(n)\n",
    "        break\n",
    "    pre.append(n)"
   ]
  },
  {
   "cell_type": "markdown",
   "metadata": {},
   "source": [
    "# Part 2\n",
    "    "
   ]
  },
  {
   "cell_type": "code",
   "execution_count": 22,
   "metadata": {},
   "outputs": [
    {
     "name": "stdout",
     "output_type": "stream",
     "text": [
      "5407707\n"
     ]
    }
   ],
   "source": [
    "\n",
    "nums = load_data('inputs/09-input')\n",
    "look_for = 50047984\n",
    "start = 0\n",
    "end = 1\n",
    "summa = nums[start]+nums[end]\n",
    "while True:\n",
    "    if summa < look_for:\n",
    "        end +=1\n",
    "        summa += nums[end]\n",
    "    elif summa > look_for:\n",
    "        start += 1\n",
    "        summa -= nums[start-1]\n",
    "    elif summa == look_for:\n",
    "        #print(start,end, nums[start], nums[end], nums[start]+nums[end])\n",
    "        contig = nums[start:end+1]\n",
    "        print(min(contig) + max(contig))\n",
    "        break"
   ]
  },
  {
   "cell_type": "code",
   "execution_count": 18,
   "metadata": {},
   "outputs": [
    {
     "data": {
      "text/plain": [
       "[15, 25, 47, 40]"
      ]
     },
     "execution_count": 18,
     "metadata": {},
     "output_type": "execute_result"
    }
   ],
   "source": [
    "nums[2:5+1]"
   ]
  },
  {
   "cell_type": "code",
   "execution_count": null,
   "metadata": {},
   "outputs": [],
   "source": []
  }
 ],
 "metadata": {
  "kernelspec": {
   "display_name": "Python 3",
   "language": "python",
   "name": "python3"
  },
  "language_info": {
   "codemirror_mode": {
    "name": "ipython",
    "version": 3
   },
   "file_extension": ".py",
   "mimetype": "text/x-python",
   "name": "python",
   "nbconvert_exporter": "python",
   "pygments_lexer": "ipython3",
   "version": "3.8.5"
  }
 },
 "nbformat": 4,
 "nbformat_minor": 4
}
