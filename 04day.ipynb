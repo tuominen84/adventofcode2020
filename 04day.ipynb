{
 "cells": [
  {
   "cell_type": "code",
   "execution_count": 7,
   "metadata": {},
   "outputs": [],
   "source": [
    "def load_data(fname):\n",
    "    with open(fname, 'r') as f:\n",
    "        data = f.read()\n",
    "    data = data.split('\\n\\n')\n",
    "    data = [d.split() for d in data]\n",
    "    #data =  x.split(':')[0]:x.split(':')[1] for d in data for x in d}\n",
    "    data = [{x.split(':')[0]:x.split(':')[1] for x in d} for d in data]\n",
    "    return data\n",
    "\n",
    "data = load_data('04-test-input.txt')"
   ]
  },
  {
   "cell_type": "code",
   "execution_count": 16,
   "metadata": {},
   "outputs": [
    {
     "data": {
      "text/plain": [
       "2"
      ]
     },
     "execution_count": 16,
     "metadata": {},
     "output_type": "execute_result"
    }
   ],
   "source": [
    "MANDATORY_FIELDS = set(['byr', 'iyr', 'eyr', 'hgt', 'hcl', 'ecl', 'pid'])\n",
    "\n",
    "def missing_fields(fields):\n",
    "    return MANDATORY_FIELDS.difference(set(fields))\n",
    "def valid_passport(fields):\n",
    "    return missing_fields(fields) == set()\n",
    "def check_passports(p_data):\n",
    "    nof_valid = 0\n",
    "    for p in p_data:\n",
    "        if valid_passport(p.keys()):\n",
    "            nof_valid += 1\n",
    "    return nof_valid\n",
    "\n",
    "check_passports(load_data('04-test-input.txt'))"
   ]
  },
  {
   "cell_type": "code",
   "execution_count": 17,
   "metadata": {},
   "outputs": [
    {
     "data": {
      "text/plain": [
       "226"
      ]
     },
     "execution_count": 17,
     "metadata": {},
     "output_type": "execute_result"
    }
   ],
   "source": [
    "check_passports(load_data('04-input.txt'))"
   ]
  },
  {
   "cell_type": "markdown",
   "metadata": {},
   "source": [
    "# Part 2"
   ]
  },
  {
   "cell_type": "code",
   "execution_count": 144,
   "metadata": {
    "scrolled": true
   },
   "outputs": [
    {
     "data": {
      "text/plain": [
       "4"
      ]
     },
     "execution_count": 144,
     "metadata": {},
     "output_type": "execute_result"
    }
   ],
   "source": [
    "import re\n",
    "\n",
    "def valid_year_range(fields, key, length, min_year, max_year):\n",
    "    field = fields[key]\n",
    "    return all([len(field)==length, int(field) >=min_year, int(field) <=max_year])\n",
    "        \n",
    "def valid_hgt(fields):\n",
    "    field = fields['hgt']\n",
    "    try: num = int(field[:-2]) \n",
    "    except ValueError: \n",
    "        return False\n",
    "    if field.endswith('cm'):\n",
    "        return num >= 150 and num <= 193\n",
    "    elif field.endswith('in'):\n",
    "        return num >= 59 and num <= 76\n",
    "    else:\n",
    "        return False\n",
    "\n",
    "def valid_hcl(fields):\n",
    "    return re.match('^#[a-f0-9]{6}$', fields['hcl'])\n",
    "    \n",
    "def valid_ecl(fields):\n",
    "    return fields['ecl'] in ['amb', 'blu', 'brn', 'gry', 'grn', 'hzl', 'oth']\n",
    "\n",
    "def valid_pid(fields):\n",
    "    return re.match('^[0-9]{9}$', fields['pid'])\n",
    "\n",
    "def fields_valid(fields):\n",
    "    return [valid_year_range(fields, 'byr', 4, 1920, 2002),\n",
    "             valid_year_range(fields, 'iyr', 4, 2010, 2020),\n",
    "             valid_year_range(fields, 'eyr', 4, 2020, 2030),\n",
    "             valid_hgt(fields),\n",
    "             valid_hcl(fields),\n",
    "             valid_ecl(fields),\n",
    "             valid_pid(fields)\n",
    "             ]\n",
    "def valid_passport(fields):\n",
    "    all_fields = missing_fields(fields) == set()\n",
    "    return all_fields and all(fields_valid(fields))\n",
    "\n",
    "def check_passports_part2(p_data):\n",
    "    nof_valid = 0\n",
    "    for p in p_data:\n",
    "        if valid_passport(p):\n",
    "            nof_valid += 1\n",
    "    return nof_valid\n",
    "               \n",
    "#check_passports_part2(load_data('04-test-input.txt'))\n",
    "\n",
    "check_passports_part2(load_data('04-valid-passports.txt'))"
   ]
  },
  {
   "cell_type": "code",
   "execution_count": 145,
   "metadata": {},
   "outputs": [
    {
     "data": {
      "text/plain": [
       "False"
      ]
     },
     "execution_count": 145,
     "metadata": {},
     "output_type": "execute_result"
    }
   ],
   "source": [
    "all([re.match('[0-9]{3}', '123'), True, None])"
   ]
  },
  {
   "cell_type": "code",
   "execution_count": 146,
   "metadata": {},
   "outputs": [
    {
     "data": {
      "text/plain": [
       "0"
      ]
     },
     "execution_count": 146,
     "metadata": {},
     "output_type": "execute_result"
    }
   ],
   "source": [
    "check_passports_part2(load_data('04-invalid-passports.txt'))"
   ]
  },
  {
   "cell_type": "code",
   "execution_count": 147,
   "metadata": {},
   "outputs": [
    {
     "data": {
      "text/plain": [
       "160"
      ]
     },
     "execution_count": 147,
     "metadata": {},
     "output_type": "execute_result"
    }
   ],
   "source": [
    "check_passports_part2(load_data('04-input.txt'))"
   ]
  },
  {
   "cell_type": "code",
   "execution_count": null,
   "metadata": {},
   "outputs": [],
   "source": []
  }
 ],
 "metadata": {
  "kernelspec": {
   "display_name": "Python 3",
   "language": "python",
   "name": "python3"
  },
  "language_info": {
   "codemirror_mode": {
    "name": "ipython",
    "version": 3
   },
   "file_extension": ".py",
   "mimetype": "text/x-python",
   "name": "python",
   "nbconvert_exporter": "python",
   "pygments_lexer": "ipython3",
   "version": "3.7.7"
  }
 },
 "nbformat": 4,
 "nbformat_minor": 4
}
