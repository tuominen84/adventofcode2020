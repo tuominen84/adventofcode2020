{
 "cells": [
  {
   "cell_type": "code",
   "execution_count": 12,
   "metadata": {},
   "outputs": [],
   "source": [
    "def parse_line(l):\n",
    "    cri, char, passwd = l.split()\n",
    "    crit_min, crit_max = [int(x) for x in cri.split('-')]\n",
    "    char = char[0]\n",
    "    return crit_min, crit_max, char, passwd"
   ]
  },
  {
   "cell_type": "code",
   "execution_count": 13,
   "metadata": {},
   "outputs": [],
   "source": [
    "def load_data(fname):\n",
    "    with open(fname, 'r') as f:\n",
    "        data = f.readlines()\n",
    "    \n",
    "    return [parse_line(l) for l in data]"
   ]
  },
  {
   "cell_type": "code",
   "execution_count": 1,
   "metadata": {},
   "outputs": [
    {
     "data": {
      "text/plain": [
       "True"
      ]
     },
     "execution_count": 1,
     "metadata": {},
     "output_type": "execute_result"
    }
   ],
   "source": [
    "def check_passwd(crit_n_passwd):\n",
    "    crit_min, crit_max, char, passwd = crit_n_passwd\n",
    "    nof_chars = len(passwd) - len(passwd.replace(char, ''))\n",
    "    if nof_chars >= crit_min and nof_chars <= crit_max:\n",
    "        return True\n",
    "    else:\n",
    "        return False\n",
    "    \n",
    "check_passwd((1, 3, 'a', 'abcde'))"
   ]
  },
  {
   "cell_type": "code",
   "execution_count": 15,
   "metadata": {},
   "outputs": [],
   "source": [
    "for passu in load_data('02day-input-test.txt'):\n",
    "    check_passwd(passu)"
   ]
  },
  {
   "cell_type": "code",
   "execution_count": 16,
   "metadata": {},
   "outputs": [
    {
     "data": {
      "text/plain": [
       "2"
      ]
     },
     "execution_count": 16,
     "metadata": {},
     "output_type": "execute_result"
    }
   ],
   "source": [
    "sum([1 for p in load_data('02day-input-test.txt') if check_passwd(p)])"
   ]
  },
  {
   "cell_type": "code",
   "execution_count": 17,
   "metadata": {},
   "outputs": [
    {
     "data": {
      "text/plain": [
       "454"
      ]
     },
     "execution_count": 17,
     "metadata": {},
     "output_type": "execute_result"
    }
   ],
   "source": [
    "sum([1 for p in load_data('02day-input.txt') if check_passwd(p)])"
   ]
  },
  {
   "cell_type": "markdown",
   "metadata": {},
   "source": [
    "# Part 2"
   ]
  },
  {
   "cell_type": "code",
   "execution_count": 18,
   "metadata": {},
   "outputs": [
    {
     "data": {
      "text/plain": [
       "False"
      ]
     },
     "execution_count": 18,
     "metadata": {},
     "output_type": "execute_result"
    }
   ],
   "source": [
    "def check_passwd_2(c):\n",
    "    crit_indx1, crit_indx2, char, passwd = c\n",
    "    #print(passwd, char)\n",
    "    #print(' '*(crit_indx1-1)+'^' + ' '*(crit_indx2-crit_indx1-1)+'^')\n",
    "    if (passwd[crit_indx1-1] == char or passwd[crit_indx2-1] == char ) \\\n",
    "        and not (passwd[crit_indx1-1] == char and passwd[crit_indx2-1] == char):\n",
    "        return True\n",
    "    else:\n",
    "        return False\n",
    "    \n",
    "check_passwd_2((4, 6, 'b', 'bbbdbtbbbj'))"
   ]
  },
  {
   "cell_type": "code",
   "execution_count": 19,
   "metadata": {},
   "outputs": [
    {
     "name": "stdout",
     "output_type": "stream",
     "text": [
      "(1, 3, 'a', 'abcde')\n",
      "KYLLÄ\n",
      "(1, 3, 'b', 'cdefg')\n",
      "EI EI\n",
      "(2, 9, 'c', 'ccccccccc')\n",
      "EI EI\n"
     ]
    }
   ],
   "source": [
    "for p in load_data('02day-input-test.txt'):\n",
    "    print(p)\n",
    "    if check_passwd_2(p):\n",
    "        print('KYLLÄ')\n",
    "    else:\n",
    "        print('EI EI')"
   ]
  },
  {
   "cell_type": "code",
   "execution_count": 21,
   "metadata": {},
   "outputs": [
    {
     "data": {
      "text/plain": [
       "649"
      ]
     },
     "execution_count": 21,
     "metadata": {},
     "output_type": "execute_result"
    }
   ],
   "source": [
    "sum([1 for p in load_data('02day-input.txt') if check_passwd_2(p)])"
   ]
  },
  {
   "cell_type": "code",
   "execution_count": null,
   "metadata": {},
   "outputs": [],
   "source": []
  }
 ],
 "metadata": {
  "kernelspec": {
   "display_name": "Python 3",
   "language": "python",
   "name": "python3"
  },
  "language_info": {
   "codemirror_mode": {
    "name": "ipython",
    "version": 3
   },
   "file_extension": ".py",
   "mimetype": "text/x-python",
   "name": "python",
   "nbconvert_exporter": "python",
   "pygments_lexer": "ipython3",
   "version": "3.7.7"
  }
 },
 "nbformat": 4,
 "nbformat_minor": 4
}
