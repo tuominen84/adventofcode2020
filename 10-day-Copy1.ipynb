{
 "cells": [
  {
   "cell_type": "code",
   "execution_count": 2,
   "metadata": {},
   "outputs": [],
   "source": [
    "def load(fn):\n",
    "    with open(fn, 'r') as f:\n",
    "        return [int(x) for x in f.readlines()]"
   ]
  },
  {
   "cell_type": "code",
   "execution_count": 3,
   "metadata": {},
   "outputs": [
    {
     "name": "stdout",
     "output_type": "stream",
     "text": [
      "22 10 220\n"
     ]
    }
   ],
   "source": [
    "adapters = sorted(load('inputs/10-test2'))\n",
    "\n",
    "ones = sum([1 for x1, x2 in zip(adapters, adapters[1:]) if x2-x1==1]) + 1\n",
    "threes = sum([1 for x1, x2 in zip(adapters, adapters[1:]) if x2-x1==3]) + 1\n",
    "\n",
    "print( ones, threes, ones * threes)"
   ]
  },
  {
   "cell_type": "markdown",
   "metadata": {},
   "source": [
    "# Part 2"
   ]
  },
  {
   "cell_type": "code",
   "execution_count": 4,
   "metadata": {},
   "outputs": [
    {
     "name": "stdout",
     "output_type": "stream",
     "text": [
      "3\n",
      "4\n",
      "0\n",
      "3\n",
      "2\n",
      "0\n",
      "4\n",
      "1\n",
      "0\n",
      "4\n",
      "\n",
      "1\n",
      "tmp 5\n",
      "5\n",
      "tmp 10\n",
      "50\n",
      "tmp 1\n",
      "50\n",
      "tmp 5\n",
      "250\n",
      "tmp 1\n",
      "250\n",
      "tmp 1\n",
      "250\n",
      "tmp 10\n",
      "2500\n",
      "tmp 1\n",
      "2500\n",
      "tmp 1\n",
      "2500\n",
      "tmp 10\n"
     ]
    },
    {
     "data": {
      "text/plain": [
       "25000"
      ]
     },
     "execution_count": 4,
     "metadata": {},
     "output_type": "execute_result"
    }
   ],
   "source": [
    "from math import factorial\n",
    "\n",
    "adapters = [0] + sorted(load('inputs/10-test2'))\n",
    "adapters.append(adapters[-1]+3)\n",
    "adapters\n",
    "\n",
    "nof = 0\n",
    "nof_list = []\n",
    "for j in [x2-x1 for x1, x2 in zip(adapters, adapters[1:])][1:]:\n",
    "    if j != 3:\n",
    "        nof += 1\n",
    "    else:\n",
    "        print(nof)\n",
    "        nof_list.append(nof)\n",
    "        nof = 0\n",
    "print('')       \n",
    "summa = 1\n",
    "for i in nof_list:\n",
    "    if i == 0: next\n",
    "    print(summa)\n",
    "    tmp = (i // 3) * i + factorial(i-1 if i-1 > 0 else 0)\n",
    "    print('tmp', tmp)\n",
    "    summa *= tmp\n",
    "summa"
   ]
  },
  {
   "cell_type": "code",
   "execution_count": 5,
   "metadata": {},
   "outputs": [
    {
     "data": {
      "text/plain": [
       "4"
      ]
     },
     "execution_count": 5,
     "metadata": {},
     "output_type": "execute_result"
    }
   ],
   "source": [
    "a = 2\n",
    "a *= 2\n",
    "a"
   ]
  },
  {
   "cell_type": "code",
   "execution_count": 6,
   "metadata": {
    "scrolled": true
   },
   "outputs": [
    {
     "data": {
      "text/plain": [
       "[1,\n",
       " 1,\n",
       " 1,\n",
       " 1,\n",
       " 3,\n",
       " 1,\n",
       " 1,\n",
       " 1,\n",
       " 1,\n",
       " 3,\n",
       " 3,\n",
       " 1,\n",
       " 1,\n",
       " 1,\n",
       " 3,\n",
       " 1,\n",
       " 1,\n",
       " 3,\n",
       " 3,\n",
       " 1,\n",
       " 1,\n",
       " 1,\n",
       " 1,\n",
       " 3,\n",
       " 1,\n",
       " 3,\n",
       " 3,\n",
       " 1,\n",
       " 1,\n",
       " 1,\n",
       " 1,\n",
       " 3]"
      ]
     },
     "execution_count": 6,
     "metadata": {},
     "output_type": "execute_result"
    }
   ],
   "source": [
    "[x2-x1 for x1, x2 in zip(adapters, adapters[1:])]"
   ]
  },
  {
   "cell_type": "code",
   "execution_count": 7,
   "metadata": {},
   "outputs": [
    {
     "data": {
      "text/plain": [
       "['*',\n",
       " '*',\n",
       " '*',\n",
       " '*',\n",
       " '*',\n",
       " '_',\n",
       " '*',\n",
       " '*',\n",
       " '*',\n",
       " '*',\n",
       " '_',\n",
       " '_',\n",
       " '*',\n",
       " '*',\n",
       " '*',\n",
       " '_',\n",
       " '*',\n",
       " '*',\n",
       " '_',\n",
       " '_',\n",
       " '*',\n",
       " '*',\n",
       " '*',\n",
       " '*',\n",
       " '_',\n",
       " '*',\n",
       " '_',\n",
       " '_',\n",
       " '*',\n",
       " '*',\n",
       " '*',\n",
       " '*',\n",
       " '_']"
      ]
     },
     "execution_count": 7,
     "metadata": {},
     "output_type": "execute_result"
    }
   ],
   "source": [
    "['*'] + ['*' if x2-x1 < 3 else '_' for x1, x2 in zip(adapters, adapters[1:]) ]"
   ]
  },
  {
   "cell_type": "code",
   "execution_count": 8,
   "metadata": {},
   "outputs": [
    {
     "name": "stdout",
     "output_type": "stream",
     "text": [
      "2\n"
     ]
    }
   ],
   "source": [
    "#c = 1 # global variable\n",
    "    \n",
    "def add():\n",
    "    global a\n",
    "    a = 2 # increment c by 2\n",
    "    print(a)\n",
    "\n",
    "add()"
   ]
  },
  {
   "cell_type": "code",
   "execution_count": 9,
   "metadata": {},
   "outputs": [
    {
     "data": {
      "text/plain": [
       "2"
      ]
     },
     "execution_count": 9,
     "metadata": {},
     "output_type": "execute_result"
    }
   ],
   "source": [
    "a"
   ]
  },
  {
   "cell_type": "code",
   "execution_count": 10,
   "metadata": {},
   "outputs": [],
   "source": [
    "import operator as op\n",
    "from functools import reduce\n",
    "\n",
    "def ncr(n, r):\n",
    "    r = min(r, n-r)\n",
    "    numer = reduce(op.mul, range(n, n-r, -1), 1)\n",
    "    denom = reduce(op.mul, range(1, r+1), 1)\n",
    "    return numer // denom  # or / in Python 2"
   ]
  },
  {
   "cell_type": "code",
   "execution_count": 11,
   "metadata": {},
   "outputs": [
    {
     "data": {
      "text/plain": [
       "1"
      ]
     },
     "execution_count": 11,
     "metadata": {},
     "output_type": "execute_result"
    }
   ],
   "source": [
    "ncr(3,3)"
   ]
  },
  {
   "cell_type": "code",
   "execution_count": 15,
   "metadata": {},
   "outputs": [
    {
     "data": {
      "text/plain": [
       "{170: 1,\n",
       " 167: 1,\n",
       " 166: 1,\n",
       " 165: 2,\n",
       " 162: 2,\n",
       " 161: 2,\n",
       " 160: 4,\n",
       " 159: 8,\n",
       " 158: 14,\n",
       " 155: 14,\n",
       " 154: 14,\n",
       " 153: 28,\n",
       " 152: 56,\n",
       " 151: 98,\n",
       " 148: 98,\n",
       " 147: 98,\n",
       " 146: 196,\n",
       " 143: 196,\n",
       " 142: 196,\n",
       " 141: 392,\n",
       " 140: 784,\n",
       " 137: 784,\n",
       " 136: 784,\n",
       " 135: 1568,\n",
       " 134: 3136,\n",
       " 133: 5488,\n",
       " 130: 5488,\n",
       " 127: 5488,\n",
       " 126: 5488,\n",
       " 125: 10976,\n",
       " 122: 10976,\n",
       " 119: 10976,\n",
       " 118: 10976,\n",
       " 117: 21952,\n",
       " 116: 43904,\n",
       " 115: 76832,\n",
       " 112: 76832,\n",
       " 109: 76832,\n",
       " 108: 76832,\n",
       " 107: 153664,\n",
       " 104: 153664,\n",
       " 101: 153664,\n",
       " 100: 153664,\n",
       " 99: 307328,\n",
       " 98: 614656,\n",
       " 95: 614656,\n",
       " 94: 614656,\n",
       " 91: 614656,\n",
       " 88: 614656,\n",
       " 85: 614656,\n",
       " 84: 614656,\n",
       " 83: 1229312,\n",
       " 82: 2458624,\n",
       " 79: 2458624,\n",
       " 78: 2458624,\n",
       " 77: 4917248,\n",
       " 76: 9834496,\n",
       " 75: 17210368,\n",
       " 72: 17210368,\n",
       " 71: 17210368,\n",
       " 70: 34420736,\n",
       " 69: 68841472,\n",
       " 66: 68841472,\n",
       " 63: 68841472,\n",
       " 62: 68841472,\n",
       " 61: 137682944,\n",
       " 60: 275365888,\n",
       " 57: 275365888,\n",
       " 56: 275365888,\n",
       " 55: 550731776,\n",
       " 54: 1101463552,\n",
       " 51: 1101463552,\n",
       " 50: 1101463552,\n",
       " 49: 2202927104,\n",
       " 48: 4405854208,\n",
       " 45: 4405854208,\n",
       " 42: 4405854208,\n",
       " 41: 4405854208,\n",
       " 40: 8811708416,\n",
       " 37: 8811708416,\n",
       " 34: 8811708416,\n",
       " 31: 8811708416,\n",
       " 30: 8811708416,\n",
       " 29: 17623416832,\n",
       " 28: 35246833664,\n",
       " 27: 61681958912,\n",
       " 24: 61681958912,\n",
       " 21: 61681958912,\n",
       " 20: 61681958912,\n",
       " 19: 123363917824,\n",
       " 18: 246727835648,\n",
       " 17: 431773712384,\n",
       " 14: 431773712384,\n",
       " 13: 431773712384,\n",
       " 12: 863547424768,\n",
       " 11: 1727094849536,\n",
       " 8: 1727094849536,\n",
       " 7: 1727094849536,\n",
       " 4: 1727094849536,\n",
       " 3: 1727094849536,\n",
       " 2: 3454189699072,\n",
       " 1: 6908379398144,\n",
       " 0: 12089663946752}"
      ]
     },
     "execution_count": 15,
     "metadata": {},
     "output_type": "execute_result"
    }
   ],
   "source": [
    "adapters = [0] + sorted(load('inputs/10-input'))\n",
    "adapters.append(adapters[-1]+3)\n",
    "\n",
    "graph = { x: [y] for x, y in zip(adapters, adapters[1:])}\n",
    "\n",
    "for i in range(len(adapters)-2):\n",
    "    j = i + 2\n",
    "    while adapters[j] - adapters[i] <= 3:\n",
    "        graph[adapters[i]].append(adapters[j])\n",
    "        j += 1\n",
    "        \n",
    "\n",
    "paths_to_end = {}\n",
    "paths_to_end[adapters[-1]] = 1\n",
    "for a in reversed(graph.keys()):\n",
    "    paths_to_end[a] = sum([ paths_to_end[x] for x in graph[a]])\n",
    "paths_to_end"
   ]
  },
  {
   "cell_type": "code",
   "execution_count": null,
   "metadata": {},
   "outputs": [],
   "source": []
  }
 ],
 "metadata": {
  "kernelspec": {
   "display_name": "Python 3",
   "language": "python",
   "name": "python3"
  },
  "language_info": {
   "codemirror_mode": {
    "name": "ipython",
    "version": 3
   },
   "file_extension": ".py",
   "mimetype": "text/x-python",
   "name": "python",
   "nbconvert_exporter": "python",
   "pygments_lexer": "ipython3",
   "version": "3.8.5"
  }
 },
 "nbformat": 4,
 "nbformat_minor": 4
}
