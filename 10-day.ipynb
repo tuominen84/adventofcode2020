{
 "cells": [
  {
   "cell_type": "code",
   "execution_count": 3,
   "metadata": {},
   "outputs": [],
   "source": [
    "def load(fn):\n",
    "    with open(fn, 'r') as f:\n",
    "        return [int(x) for x in f.readlines()]"
   ]
  },
  {
   "cell_type": "code",
   "execution_count": 15,
   "metadata": {},
   "outputs": [
    {
     "name": "stdout",
     "output_type": "stream",
     "text": [
      "68 34 2312\n"
     ]
    }
   ],
   "source": [
    "adapters = sorted(load('inputs/10-input'))\n",
    "\n",
    "ones = sum([1 for x1, x2 in zip(adapters, adapters[1:]) if x2-x1==1]) + 1\n",
    "threes = sum([1 for x1, x2 in zip(adapters, adapters[1:]) if x2-x1==3]) + 1\n",
    "\n",
    "print( ones, threes, ones * threes)"
   ]
  },
  {
   "cell_type": "code",
   "execution_count": null,
   "metadata": {},
   "outputs": [],
   "source": []
  }
 ],
 "metadata": {
  "kernelspec": {
   "display_name": "Python 3",
   "language": "python",
   "name": "python3"
  },
  "language_info": {
   "codemirror_mode": {
    "name": "ipython",
    "version": 3
   },
   "file_extension": ".py",
   "mimetype": "text/x-python",
   "name": "python",
   "nbconvert_exporter": "python",
   "pygments_lexer": "ipython3",
   "version": "3.7.7"
  }
 },
 "nbformat": 4,
 "nbformat_minor": 4
}
