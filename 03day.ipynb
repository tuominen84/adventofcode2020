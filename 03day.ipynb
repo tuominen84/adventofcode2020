{
 "cells": [
  {
   "cell_type": "code",
   "execution_count": 2,
   "metadata": {},
   "outputs": [
    {
     "data": {
      "text/plain": [
       "[['.', '.', '#', '#', '.', '.', '.', '.', '.', '.', '.'],\n",
       " ['#', '.', '.', '.', '#', '.', '.', '.', '#', '.', '.'],\n",
       " ['.', '#', '.', '.', '.', '.', '#', '.', '.', '#', '.'],\n",
       " ['.', '.', '#', '.', '#', '.', '.', '.', '#', '.', '#'],\n",
       " ['.', '#', '.', '.', '.', '#', '#', '.', '.', '#', '.'],\n",
       " ['.', '.', '#', '.', '#', '#', '.', '.', '.', '.', '.'],\n",
       " ['.', '#', '.', '#', '.', '#', '.', '.', '.', '.', '#'],\n",
       " ['.', '#', '.', '.', '.', '.', '.', '.', '.', '.', '#'],\n",
       " ['#', '.', '#', '#', '.', '.', '.', '#', '.', '.', '.'],\n",
       " ['#', '.', '.', '.', '#', '#', '.', '.', '.', '.', '#'],\n",
       " ['.', '#', '.', '.', '#', '.', '.', '.', '#', '.', '#']]"
      ]
     },
     "execution_count": 2,
     "metadata": {},
     "output_type": "execute_result"
    }
   ],
   "source": [
    "def load_data(fname):\n",
    "    with open(fname, 'r') as f:\n",
    "        data = f.readlines()\n",
    "    data = [list(l.strip()) for l in data]\n",
    "    return data\n",
    "\n",
    "load_data('03day-test-input.txt')"
   ]
  },
  {
   "cell_type": "code",
   "execution_count": 13,
   "metadata": {},
   "outputs": [
    {
     "data": {
      "text/plain": [
       "7"
      ]
     },
     "execution_count": 13,
     "metadata": {},
     "output_type": "execute_result"
    }
   ],
   "source": [
    "TREE = '#'\n",
    "def tree_at(pos, pattern):\n",
    "    return pattern[pos[0]][pos[1]] == TREE\n",
    "        \n",
    "def ride_toboggan(pattern, slope):\n",
    "    horz, vert = slope\n",
    "    pos = (0,0)\n",
    "    height = len(pattern)\n",
    "    width = len(pattern[0])\n",
    "    trees_found = 0\n",
    "    while True:\n",
    "        pos = (pos[0] + horz, (pos[1]+vert) % width) \n",
    "        if pos[0] >= height:\n",
    "            break\n",
    "        if tree_at(pos, pattern):\n",
    "            trees_found += 1\n",
    "        \n",
    "    return trees_found\n",
    "\n",
    "ride_toboggan(load_data('03day-test-input.txt'), (1,3))\n"
   ]
  },
  {
   "cell_type": "markdown",
   "metadata": {},
   "source": [
    "# Part 1"
   ]
  },
  {
   "cell_type": "code",
   "execution_count": 10,
   "metadata": {},
   "outputs": [
    {
     "data": {
      "text/plain": [
       "159"
      ]
     },
     "execution_count": 10,
     "metadata": {},
     "output_type": "execute_result"
    }
   ],
   "source": [
    "ride_toboggan(load_data('03day-input.txt'), (1,3))"
   ]
  },
  {
   "cell_type": "markdown",
   "metadata": {},
   "source": [
    "# Part 2"
   ]
  },
  {
   "cell_type": "code",
   "execution_count": 11,
   "metadata": {},
   "outputs": [
    {
     "name": "stdout",
     "output_type": "stream",
     "text": [
      "86\n",
      "13674\n",
      "1326378\n",
      "116721264\n",
      "6419669520\n"
     ]
    },
    {
     "data": {
      "text/plain": [
       "6419669520"
      ]
     },
     "execution_count": 11,
     "metadata": {},
     "output_type": "execute_result"
    }
   ],
   "source": [
    "pat = load_data('03day-input.txt')\n",
    "#        down, right\n",
    "slopes = [(1,1),\n",
    "          (1,3),\n",
    "          (1,5),\n",
    "          (1,7), \n",
    "          (2,1) ]\n",
    "\n",
    "def ride_slopes(pattern, slopes):\n",
    "    trees = 1 \n",
    "    for slope in slopes:\n",
    "        trees *= ride_toboggan(pattern, slope)\n",
    "        print(trees)\n",
    "    \n",
    "    return trees\n",
    "\n",
    "ride_slopes(pat, slopes)"
   ]
  },
  {
   "cell_type": "code",
   "execution_count": null,
   "metadata": {},
   "outputs": [],
   "source": []
  }
 ],
 "metadata": {
  "kernelspec": {
   "display_name": "Python 3",
   "language": "python",
   "name": "python3"
  },
  "language_info": {
   "codemirror_mode": {
    "name": "ipython",
    "version": 3
   },
   "file_extension": ".py",
   "mimetype": "text/x-python",
   "name": "python",
   "nbconvert_exporter": "python",
   "pygments_lexer": "ipython3",
   "version": "3.7.7"
  }
 },
 "nbformat": 4,
 "nbformat_minor": 4
}
