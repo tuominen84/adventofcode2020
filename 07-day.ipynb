{
 "cells": [
  {
   "cell_type": "code",
   "execution_count": 25,
   "metadata": {},
   "outputs": [
    {
     "data": {
      "text/plain": [
       "[('light red', [('bright white', 1), ('muted yellow', 2)]),\n",
       " ('dark orange', [('bright white', 3), ('muted yellow', 4)]),\n",
       " ('bright white', [('shiny gold', 1)]),\n",
       " ('muted yellow', [('shiny gold', 2), ('faded blue', 9)]),\n",
       " ('shiny gold', [('dark olive', 1), ('vibrant plum', 2)]),\n",
       " ('dark olive', [('faded blue', 3), ('dotted black', 4)]),\n",
       " ('vibrant plum', [('faded blue', 5), ('dotted black', 6)]),\n",
       " ('faded blue', []),\n",
       " ('dotted black', [])]"
      ]
     },
     "execution_count": 25,
     "metadata": {},
     "output_type": "execute_result"
    }
   ],
   "source": [
    "def process_line(l):\n",
    "    #l = l[:-1].replace('bags', '')\n",
    "    bag, bags = l.split('contain')\n",
    "    bag = bag.strip().replace(' bags', '')\n",
    "    bags = [b.strip() for b in bags.split(',')]\n",
    "    cleaned_bags = []\n",
    "    for b in bags:\n",
    "        num, *bs, shit = b.split(' ')\n",
    "        if not num == 'no':\n",
    "            cleaned_bags.append((' '.join(bs), int(num)))\n",
    "    return bag, cleaned_bags\n",
    "\n",
    "def load_data(fname):\n",
    "    with open(fname, 'r') as f:\n",
    "        data = [process_line(l) for l in f.readlines()]\n",
    "    return data\n",
    "\n",
    "load_data('inputs\\\\07-test-input')"
   ]
  },
  {
   "cell_type": "code",
   "execution_count": 42,
   "metadata": {},
   "outputs": [
    {
     "data": {
      "text/plain": [
       "{'light red': [],\n",
       " 'bright white': ['light red', 'dark orange'],\n",
       " 'muted yellow': ['light red', 'dark orange'],\n",
       " 'dark orange': [],\n",
       " 'shiny gold': ['bright white', 'muted yellow'],\n",
       " 'faded blue': ['muted yellow', 'dark olive', 'vibrant plum'],\n",
       " 'dark olive': ['shiny gold'],\n",
       " 'vibrant plum': ['shiny gold'],\n",
       " 'dotted black': ['dark olive', 'vibrant plum']}"
      ]
     },
     "execution_count": 42,
     "metadata": {},
     "output_type": "execute_result"
    }
   ],
   "source": [
    "def create_bag_graph(bags):\n",
    "    graph = {}\n",
    "    for bag, contains in bags:\n",
    "        if not bag in graph:\n",
    "            graph[bag] = []\n",
    "        for c in contains:\n",
    "            try: graph[c[0]].append(bag)\n",
    "            except: graph[c[0]] = [bag]\n",
    "                \n",
    "    return graph\n",
    "\n",
    "bags = create_bag_graph(load_data('inputs\\\\07-test-input'))\n",
    "\n",
    "bags"
   ]
  },
  {
   "cell_type": "code",
   "execution_count": 67,
   "metadata": {
    "scrolled": true
   },
   "outputs": [
    {
     "data": {
      "text/plain": [
       "['shiny gold', 'bright white', 'light red', 'dark orange', 'muted yellow']"
      ]
     },
     "execution_count": 67,
     "metadata": {},
     "output_type": "execute_result"
    }
   ],
   "source": [
    "bags = create_bag_graph(load_data('inputs\\\\07-test-input'))\n",
    "def find_bags(bag_graph, bag, bags_seen):\n",
    "    bags_seen.append(bag)\n",
    "    for b in bag_graph[bag]:\n",
    "        if not b in bags_seen:\n",
    "            bags_seen = find_bags(bag_graph, b, bags_seen)\n",
    "    return bags_seen\n",
    "bags_seen = []\n",
    "find_bags(bags, 'shiny gold', bags_seen)"
   ]
  },
  {
   "cell_type": "code",
   "execution_count": 68,
   "metadata": {},
   "outputs": [
    {
     "data": {
      "text/plain": [
       "173"
      ]
     },
     "execution_count": 68,
     "metadata": {},
     "output_type": "execute_result"
    }
   ],
   "source": [
    "bags_all = create_bag_graph(load_data('inputs\\\\07-input'))\n",
    "len(find_bags(bags_all, 'shiny gold', []))"
   ]
  },
  {
   "cell_type": "code",
   "execution_count": 64,
   "metadata": {},
   "outputs": [
    {
     "data": {
      "text/plain": [
       "['muted yellow', 'dark orange', 'light red', 'bright white']"
      ]
     },
     "execution_count": 64,
     "metadata": {},
     "output_type": "execute_result"
    }
   ],
   "source": [
    "\n",
    "bags = create_bag_graph(load_data('inputs\\\\07-test-input'))\n",
    "def find_bags_iterative(graph, bag):\n",
    "    bags_visited = [bag]\n",
    "    bags = graph[bag]\n",
    "    while not len(bags) == 0:\n",
    "        current_bag = bags.pop()\n",
    "        #print(current_bag)\n",
    "        if current_bag not in bags_visited:\n",
    "            bags_visited.append(current_bag)\n",
    "            bags += graph[current_bag]\n",
    "            #print(bags)\n",
    "    bags_visited.remove(bag)\n",
    "    return bags_visited\n",
    "find_bags_iterative(bags, 'shiny gold')\n",
    "        "
   ]
  },
  {
   "cell_type": "code",
   "execution_count": 65,
   "metadata": {},
   "outputs": [
    {
     "data": {
      "text/plain": [
       "172"
      ]
     },
     "execution_count": 65,
     "metadata": {},
     "output_type": "execute_result"
    }
   ],
   "source": [
    "bags_all = create_bag_graph(load_data('inputs\\\\07-input'))\n",
    "len(find_bags_iterative(bags_all, 'shiny gold'))"
   ]
  },
  {
   "cell_type": "code",
   "execution_count": null,
   "metadata": {},
   "outputs": [],
   "source": []
  }
 ],
 "metadata": {
  "kernelspec": {
   "display_name": "Python 3",
   "language": "python",
   "name": "python3"
  },
  "language_info": {
   "codemirror_mode": {
    "name": "ipython",
    "version": 3
   },
   "file_extension": ".py",
   "mimetype": "text/x-python",
   "name": "python",
   "nbconvert_exporter": "python",
   "pygments_lexer": "ipython3",
   "version": "3.7.7"
  }
 },
 "nbformat": 4,
 "nbformat_minor": 4
}
