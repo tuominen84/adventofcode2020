{
 "cells": [
  {
   "cell_type": "code",
   "execution_count": 2,
   "metadata": {},
   "outputs": [
    {
     "data": {
      "text/plain": [
       "[('light red', [('bright white', 1), ('muted yellow', 2)]),\n",
       " ('dark orange', [('bright white', 3), ('muted yellow', 4)]),\n",
       " ('bright white', [('shiny gold', 1)]),\n",
       " ('muted yellow', [('shiny gold', 2), ('faded blue', 9)]),\n",
       " ('shiny gold', [('dark olive', 1), ('vibrant plum', 2)]),\n",
       " ('dark olive', [('faded blue', 3), ('dotted black', 4)]),\n",
       " ('vibrant plum', [('faded blue', 5), ('dotted black', 6)]),\n",
       " ('faded blue', []),\n",
       " ('dotted black', [])]"
      ]
     },
     "execution_count": 2,
     "metadata": {},
     "output_type": "execute_result"
    }
   ],
   "source": [
    "def process_line(l):\n",
    "    #l = l[:-1].replace('bags', '')\n",
    "    bag, bags = l.split('contain')\n",
    "    bag = bag.strip().replace(' bags', '')\n",
    "    bags = [b.strip() for b in bags.split(',')]\n",
    "    cleaned_bags = []\n",
    "    for b in bags:\n",
    "        num, *bs, shit = b.split(' ')\n",
    "        if not num == 'no':\n",
    "            cleaned_bags.append((' '.join(bs), int(num)))\n",
    "    return bag, cleaned_bags\n",
    "\n",
    "def load_data(fname):\n",
    "    with open(fname, 'r') as f:\n",
    "        data = [process_line(l) for l in f.readlines()]\n",
    "    return data\n",
    "\n",
    "load_data('inputs/07-test-input')"
   ]
  },
  {
   "cell_type": "code",
   "execution_count": 3,
   "metadata": {},
   "outputs": [
    {
     "data": {
      "text/plain": [
       "{'light red': [],\n",
       " 'bright white': ['light red', 'dark orange'],\n",
       " 'muted yellow': ['light red', 'dark orange'],\n",
       " 'dark orange': [],\n",
       " 'shiny gold': ['bright white', 'muted yellow'],\n",
       " 'faded blue': ['muted yellow', 'dark olive', 'vibrant plum'],\n",
       " 'dark olive': ['shiny gold'],\n",
       " 'vibrant plum': ['shiny gold'],\n",
       " 'dotted black': ['dark olive', 'vibrant plum']}"
      ]
     },
     "execution_count": 3,
     "metadata": {},
     "output_type": "execute_result"
    }
   ],
   "source": [
    "def create_bag_graph(bags):\n",
    "    graph = {}\n",
    "    for bag, contains in bags:\n",
    "        if not bag in graph:\n",
    "            graph[bag] = []\n",
    "        for c in contains:\n",
    "            try: graph[c[0]].append(bag)\n",
    "            except: graph[c[0]] = [bag]\n",
    "                \n",
    "    return graph\n",
    "\n",
    "bags = create_bag_graph(load_data('inputs/07-test-input'))\n",
    "\n",
    "bags"
   ]
  },
  {
   "cell_type": "code",
   "execution_count": 4,
   "metadata": {
    "scrolled": true
   },
   "outputs": [
    {
     "data": {
      "text/plain": [
       "['shiny gold', 'bright white', 'light red', 'dark orange', 'muted yellow']"
      ]
     },
     "execution_count": 4,
     "metadata": {},
     "output_type": "execute_result"
    }
   ],
   "source": [
    "bags = create_bag_graph(load_data('inputs/07-test-input'))\n",
    "def find_bags(bag_graph, bag, bags_seen):\n",
    "    bags_seen.append(bag)\n",
    "    for b in bag_graph[bag]:\n",
    "        if not b in bags_seen:\n",
    "            bags_seen = find_bags(bag_graph, b, bags_seen)\n",
    "    return bags_seen\n",
    "bags_seen = []\n",
    "find_bags(bags, 'shiny gold', bags_seen)"
   ]
  },
  {
   "cell_type": "code",
   "execution_count": 5,
   "metadata": {},
   "outputs": [
    {
     "data": {
      "text/plain": [
       "173"
      ]
     },
     "execution_count": 5,
     "metadata": {},
     "output_type": "execute_result"
    }
   ],
   "source": [
    "bags_all = create_bag_graph(load_data('inputs/07-input'))\n",
    "len(find_bags(bags_all, 'shiny gold', []))"
   ]
  },
  {
   "cell_type": "code",
   "execution_count": 7,
   "metadata": {},
   "outputs": [
    {
     "data": {
      "text/plain": [
       "['muted yellow', 'dark orange', 'light red', 'bright white']"
      ]
     },
     "execution_count": 7,
     "metadata": {},
     "output_type": "execute_result"
    }
   ],
   "source": [
    "\n",
    "bags = create_bag_graph(load_data('inputs/07-test-input'))\n",
    "def find_bags_iterative(graph, bag):\n",
    "    bags_visited = [bag]\n",
    "    bags = graph[bag]\n",
    "    while not len(bags) == 0:\n",
    "        current_bag = bags.pop()\n",
    "        #print(current_bag)\n",
    "        if current_bag not in bags_visited:\n",
    "            bags_visited.append(current_bag)\n",
    "            bags += graph[current_bag]\n",
    "            #print(bags)\n",
    "    bags_visited.remove(bag)\n",
    "    return bags_visited\n",
    "find_bags_iterative(bags, 'shiny gold')\n",
    "        "
   ]
  },
  {
   "cell_type": "code",
   "execution_count": 8,
   "metadata": {},
   "outputs": [
    {
     "data": {
      "text/plain": [
       "172"
      ]
     },
     "execution_count": 8,
     "metadata": {},
     "output_type": "execute_result"
    }
   ],
   "source": [
    "bags_all = create_bag_graph(load_data('inputs/07-input'))\n",
    "len(find_bags_iterative(bags_all, 'shiny gold'))"
   ]
  },
  {
   "cell_type": "markdown",
   "metadata": {},
   "source": [
    "# Part 2"
   ]
  },
  {
   "cell_type": "code",
   "execution_count": 9,
   "metadata": {},
   "outputs": [
    {
     "data": {
      "text/plain": [
       "[('light red', [('bright white', 1), ('muted yellow', 2)]),\n",
       " ('dark orange', [('bright white', 3), ('muted yellow', 4)]),\n",
       " ('bright white', [('shiny gold', 1)]),\n",
       " ('muted yellow', [('shiny gold', 2), ('faded blue', 9)]),\n",
       " ('shiny gold', [('dark olive', 1), ('vibrant plum', 2)]),\n",
       " ('dark olive', [('faded blue', 3), ('dotted black', 4)]),\n",
       " ('vibrant plum', [('faded blue', 5), ('dotted black', 6)]),\n",
       " ('faded blue', []),\n",
       " ('dotted black', [])]"
      ]
     },
     "execution_count": 9,
     "metadata": {},
     "output_type": "execute_result"
    }
   ],
   "source": [
    "load_data('inputs/07-test-input')"
   ]
  },
  {
   "cell_type": "code",
   "execution_count": 10,
   "metadata": {},
   "outputs": [],
   "source": [
    "graph = {b: siblings for b, siblings in load_data('inputs/07-test-input')}"
   ]
  },
  {
   "cell_type": "code",
   "execution_count": 11,
   "metadata": {},
   "outputs": [
    {
     "data": {
      "text/plain": [
       "{'light red': [('bright white', 1), ('muted yellow', 2)],\n",
       " 'dark orange': [('bright white', 3), ('muted yellow', 4)],\n",
       " 'bright white': [('shiny gold', 1)],\n",
       " 'muted yellow': [('shiny gold', 2), ('faded blue', 9)],\n",
       " 'shiny gold': [('dark olive', 1), ('vibrant plum', 2)],\n",
       " 'dark olive': [('faded blue', 3), ('dotted black', 4)],\n",
       " 'vibrant plum': [('faded blue', 5), ('dotted black', 6)],\n",
       " 'faded blue': [],\n",
       " 'dotted black': []}"
      ]
     },
     "execution_count": 11,
     "metadata": {},
     "output_type": "execute_result"
    }
   ],
   "source": [
    "graph"
   ]
  },
  {
   "cell_type": "code",
   "execution_count": 15,
   "metadata": {},
   "outputs": [
    {
     "name": "stdout",
     "output_type": "stream",
     "text": [
      "dark olive 7\n",
      "vibrant plum 11\n",
      "shiny gold 32\n"
     ]
    },
    {
     "data": {
      "text/plain": [
       "32"
      ]
     },
     "execution_count": 15,
     "metadata": {},
     "output_type": "execute_result"
    }
   ],
   "source": [
    "# plusone = don't count initial bag\n",
    "cache = {}\n",
    "def count_bags(graph, bag, plusone=True):\n",
    "    if graph[bag] == []:\n",
    "        return 1\n",
    "    total_bags = 0\n",
    "    for b in graph[bag]:\n",
    "        if b in cache:\n",
    "            print('cache')\n",
    "            total_bags += cache[b]\n",
    "        else:\n",
    "            bags_cont = count_bags(graph, b[0]) * b[1]\n",
    "            cache[b] = bags_cont\n",
    "            total_bags += bags_cont\n",
    "    print(bag, total_bags)\n",
    "    return total_bags + (1 if plusone else 0)\n",
    "   \n",
    "count_bags(graph, 'shiny gold', False)\n"
   ]
  },
  {
   "cell_type": "code",
   "execution_count": 16,
   "metadata": {},
   "outputs": [
    {
     "name": "stdout",
     "output_type": "stream",
     "text": [
      "clear lavender 3\n",
      "vibrant green 9\n",
      "cache\n",
      "muted silver 3\n",
      "cache\n",
      "dotted olive 8\n",
      "cache\n",
      "cache\n",
      "cache\n",
      "cache\n",
      "dotted olive 8\n",
      "cache\n",
      "drab fuchsia 42\n",
      "muted brown 56\n",
      "cache\n",
      "clear lavender 3\n",
      "pale silver 69\n",
      "cache\n",
      "cache\n",
      "cache\n",
      "cache\n",
      "cache\n",
      "dotted olive 8\n",
      "cache\n",
      "vibrant chartreuse 3\n",
      "cache\n",
      "muted silver 3\n",
      "muted salmon 29\n",
      "plaid brown 168\n",
      "cache\n",
      "cache\n",
      "cache\n",
      "drab fuchsia 42\n",
      "plaid cyan 143\n",
      "cache\n",
      "cache\n",
      "cache\n",
      "vibrant green 9\n",
      "dull olive 976\n",
      "cache\n",
      "cache\n",
      "cache\n",
      "vibrant green 9\n",
      "cache\n",
      "cache\n",
      "cache\n",
      "vibrant green 9\n",
      "mirrored black 36\n",
      "cache\n",
      "muted white 10\n",
      "drab magenta 195\n",
      "pale violet 5629\n",
      "cache\n",
      "cache\n",
      "cache\n",
      "cache\n",
      "dull olive 976\n",
      "cache\n",
      "cache\n",
      "vibrant chartreuse 3\n",
      "cache\n",
      "cache\n",
      "cache\n",
      "cache\n",
      "cache\n",
      "dotted olive 8\n",
      "drab chartreuse 40\n",
      "light magenta 205\n",
      "posh maroon 828\n",
      "cache\n",
      "cache\n",
      "cache\n",
      "muted brown 56\n",
      "pale white 4388\n",
      "shiny gold 39645\n"
     ]
    },
    {
     "data": {
      "text/plain": [
       "39645"
      ]
     },
     "execution_count": 16,
     "metadata": {},
     "output_type": "execute_result"
    }
   ],
   "source": [
    "count_bags({b: siblings for b, siblings in load_data('inputs/07-input')}, 'shiny gold', plusone=False)"
   ]
  },
  {
   "cell_type": "code",
   "execution_count": null,
   "metadata": {},
   "outputs": [],
   "source": []
  }
 ],
 "metadata": {
  "kernelspec": {
   "display_name": "Python 3",
   "language": "python",
   "name": "python3"
  },
  "language_info": {
   "codemirror_mode": {
    "name": "ipython",
    "version": 3
   },
   "file_extension": ".py",
   "mimetype": "text/x-python",
   "name": "python",
   "nbconvert_exporter": "python",
   "pygments_lexer": "ipython3",
   "version": "3.8.5"
  }
 },
 "nbformat": 4,
 "nbformat_minor": 4
}
