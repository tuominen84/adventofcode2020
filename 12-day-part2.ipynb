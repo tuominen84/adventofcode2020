{
 "cells": [
  {
   "cell_type": "code",
   "execution_count": 2,
   "metadata": {},
   "outputs": [
    {
     "data": {
      "text/plain": [
       "[('F', 10), ('N', 3), ('F', 7), ('R', 90), ('F', 11)]"
      ]
     },
     "execution_count": 2,
     "metadata": {},
     "output_type": "execute_result"
    }
   ],
   "source": [
    "def load(fn):\n",
    "    with open(fn, 'r') as f:\n",
    "        ops = [l.strip() for l in f.readlines()]\n",
    "    return [(l[0], int(l[1:])) for l in ops]\n",
    "\n",
    "load('inputs/12-test')"
   ]
  },
  {
   "cell_type": "code",
   "execution_count": 13,
   "metadata": {},
   "outputs": [
    {
     "data": {
      "text/plain": [
       "48739"
      ]
     },
     "execution_count": 13,
     "metadata": {},
     "output_type": "execute_result"
    }
   ],
   "source": [
    "import math\n",
    "rad = lambda a: a/180. * math.pi\n",
    "def cos(x):\n",
    "    return int(math.cos(rad(x)))\n",
    "def sin(x):\n",
    "    return int(math.sin(rad(x)))\n",
    "\n",
    "class Ship:\n",
    "    def __init__(self):\n",
    "        self.loc = (0,0)\n",
    "        self.wpn = (1, 10)\n",
    "    def sail(self, op, unit):\n",
    "        if op == 'N':\n",
    "            self.wpn = self.wpn[0]+unit, self.wpn[1]\n",
    "            #self.dir = (1, 0)\n",
    "        elif op == 'S':\n",
    "            self.wpn = self.wpn[0]-unit, self.wpn[1]\n",
    "            #self.dir = (-1, 0)\n",
    "        elif op == 'E':\n",
    "            self.wpn = self.wpn[0], self.wpn[1]+unit\n",
    "            #self.dir = (0, 1)\n",
    "        elif op == 'W':\n",
    "            self.wpn = self.wpn[0], self.wpn[1]-unit\n",
    "            #self.dir = (0, -1)\n",
    "        elif op == 'L':\n",
    "            dx, dy = self.wpn\n",
    "            self.wpn = (dx*cos(-unit) - dy*sin(-unit), \n",
    "                        dx*sin(-unit)+dy*cos(-unit))\n",
    "        elif op == 'R':\n",
    "            dx, dy = self.wpn\n",
    "            self.wpn = (dx*cos(unit) - dy*sin(unit), \n",
    "                        dx*sin(unit)+dy*cos(unit))\n",
    "        elif op == 'F':\n",
    "            #print('x', self.loc[0], self.dir[0], unit)\n",
    "            #print('y', self.loc[1], self.dir[1], unit)\n",
    "            self.loc = (self.loc[0] + self.wpn[0]*unit, \n",
    "                self.loc[1] + self.wpn[1]*unit)\n",
    "    def __repr__(self):\n",
    "        return str((self.loc, self.wpn))\n",
    "    def manhattan(self):\n",
    "        lat,lon = self.loc\n",
    "        return abs(lat) + abs(lon)\n",
    "s = Ship()\n",
    "for op, u in load('inputs/12-input'):\n",
    "    s.sail(op, u)\n",
    "    #print(op, u, s)\n",
    "s.manhattan()    "
   ]
  },
  {
   "cell_type": "code",
   "execution_count": 7,
   "metadata": {},
   "outputs": [
    {
     "data": {
      "text/plain": [
       "((-999, 943), (-100, 13))"
      ]
     },
     "execution_count": 7,
     "metadata": {},
     "output_type": "execute_result"
    }
   ],
   "source": [
    "s"
   ]
  },
  {
   "cell_type": "code",
   "execution_count": null,
   "metadata": {},
   "outputs": [],
   "source": []
  }
 ],
 "metadata": {
  "kernelspec": {
   "display_name": "Python 3",
   "language": "python",
   "name": "python3"
  },
  "language_info": {
   "codemirror_mode": {
    "name": "ipython",
    "version": 3
   },
   "file_extension": ".py",
   "mimetype": "text/x-python",
   "name": "python",
   "nbconvert_exporter": "python",
   "pygments_lexer": "ipython3",
   "version": "3.7.7"
  }
 },
 "nbformat": 4,
 "nbformat_minor": 4
}
