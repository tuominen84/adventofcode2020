{
 "cells": [
  {
   "cell_type": "code",
   "execution_count": 3,
   "metadata": {},
   "outputs": [
    {
     "data": {
      "text/plain": [
       "6"
      ]
     },
     "execution_count": 3,
     "metadata": {},
     "output_type": "execute_result"
    }
   ],
   "source": [
    "(939 - (939 % 7) + 7) - 939"
   ]
  },
  {
   "cell_type": "code",
   "execution_count": 161,
   "metadata": {},
   "outputs": [
    {
     "data": {
      "text/plain": [
       "(939, ['7', '13', 'x', 'x', '59', 'x', '31', '19'])"
      ]
     },
     "execution_count": 161,
     "metadata": {},
     "output_type": "execute_result"
    }
   ],
   "source": [
    "def load(fn):\n",
    "    with open(fn, 'r') as f:\n",
    "        time = int(f.readline().strip())\n",
    "        buses = [ b for b in f.readline().split(',') ]\n",
    "    return time, buses\n",
    "\n",
    "load('inputs/13-test')"
   ]
  },
  {
   "cell_type": "code",
   "execution_count": 22,
   "metadata": {},
   "outputs": [
    {
     "data": {
      "text/plain": [
       "(7, 6)"
      ]
     },
     "execution_count": 22,
     "metadata": {},
     "output_type": "execute_result"
    }
   ],
   "source": [
    "def calc_wait_time(time, bus):\n",
    "    bus = int(bus)\n",
    "    return bus, (time - (time % bus)+ bus) - time\n",
    "\n",
    "calc_wait_time(939, 7)"
   ]
  },
  {
   "cell_type": "code",
   "execution_count": 26,
   "metadata": {},
   "outputs": [
    {
     "data": {
      "text/plain": [
       "1895"
      ]
     },
     "execution_count": 26,
     "metadata": {},
     "output_type": "execute_result"
    }
   ],
   "source": [
    "time, busses = load('inputs/13-input')\n",
    "bus_n_time = min([calc_wait_time(time, b) for b in busses ], key=lambda x: x[1])\n",
    "    \n",
    "bus_n_time[0] * bus_n_time[1]"
   ]
  },
  {
   "cell_type": "markdown",
   "metadata": {},
   "source": [
    "# Part 2"
   ]
  },
  {
   "cell_type": "code",
   "execution_count": 40,
   "metadata": {},
   "outputs": [
    {
     "data": {
      "text/plain": [
       "35"
      ]
     },
     "execution_count": 40,
     "metadata": {},
     "output_type": "execute_result"
    }
   ],
   "source": [
    "i = 1068795\n",
    "i % 77"
   ]
  },
  {
   "cell_type": "code",
   "execution_count": 37,
   "metadata": {},
   "outputs": [
    {
     "data": {
      "text/plain": [
       "3162341"
      ]
     },
     "execution_count": 37,
     "metadata": {},
     "output_type": "execute_result"
    }
   ],
   "source": [
    "7*13*59*31*19"
   ]
  },
  {
   "cell_type": "code",
   "execution_count": 44,
   "metadata": {},
   "outputs": [
    {
     "name": "stdout",
     "output_type": "stream",
     "text": [
      "77\n"
     ]
    }
   ],
   "source": [
    "i = 7\n",
    "while True:\n",
    "    if (i) % 7 == 0 and (i+1) % 13 == 0:\n",
    "        print(i)\n",
    "        break\n",
    "    i += 7"
   ]
  },
  {
   "cell_type": "code",
   "execution_count": 45,
   "metadata": {},
   "outputs": [
    {
     "data": {
      "text/plain": [
       "0"
      ]
     },
     "execution_count": 45,
     "metadata": {},
     "output_type": "execute_result"
    }
   ],
   "source": [
    "(2*77) % 7"
   ]
  },
  {
   "cell_type": "code",
   "execution_count": 46,
   "metadata": {},
   "outputs": [
    {
     "data": {
      "text/plain": [
       "0"
      ]
     },
     "execution_count": 46,
     "metadata": {},
     "output_type": "execute_result"
    }
   ],
   "source": [
    "(2*78) % 13"
   ]
  },
  {
   "cell_type": "code",
   "execution_count": 189,
   "metadata": {},
   "outputs": [
    {
     "name": "stdout",
     "output_type": "stream",
     "text": [
      "1068781\n"
     ]
    }
   ],
   "source": [
    "period = 1\n",
    "i = 1\n",
    "found = 0\n",
    "while found < 1:\n",
    "    if all( [(i) % 7 == 0,\n",
    "             (i+1) % 13 == 0, \n",
    "             (i+4) % 59 == 0, \n",
    "             (i+6) % 31 == 0,\n",
    "             (i+7) % 19 == 0\n",
    "            ] ):\n",
    "        print(i)\n",
    "        found += 1\n",
    "        #break\n",
    "    i += period"
   ]
  },
  {
   "cell_type": "code",
   "execution_count": 140,
   "metadata": {},
   "outputs": [
    {
     "data": {
      "text/plain": [
       "172158"
      ]
     },
     "execution_count": 140,
     "metadata": {},
     "output_type": "execute_result"
    }
   ],
   "source": [
    "5719 + (7 * 13 * 59 * 31)"
   ]
  },
  {
   "cell_type": "code",
   "execution_count": 121,
   "metadata": {},
   "outputs": [
    {
     "data": {
      "text/plain": [
       "5369"
      ]
     },
     "execution_count": 121,
     "metadata": {},
     "output_type": "execute_result"
    }
   ],
   "source": [
    "5719- 350"
   ]
  },
  {
   "cell_type": "code",
   "execution_count": 136,
   "metadata": {},
   "outputs": [
    {
     "data": {
      "text/plain": [
       "5369"
      ]
     },
     "execution_count": 136,
     "metadata": {},
     "output_type": "execute_result"
    }
   ],
   "source": [
    "7 * 13 * 59"
   ]
  },
  {
   "cell_type": "code",
   "execution_count": 114,
   "metadata": {},
   "outputs": [
    {
     "data": {
      "text/plain": [
       "55"
      ]
     },
     "execution_count": 114,
     "metadata": {},
     "output_type": "execute_result"
    }
   ],
   "source": [
    "i = 1068781\n",
    "[(i) % 7 == 0,\n",
    "             (i+1) % 13 == 0, \n",
    "             (i+4) % 59 == 0, \n",
    "             (i+6) % 31 == 0\n",
    "            ]\n",
    "i % 59"
   ]
  },
  {
   "cell_type": "code",
   "execution_count": 53,
   "metadata": {},
   "outputs": [
    {
     "name": "stdout",
     "output_type": "stream",
     "text": [
      "10010\n"
     ]
    }
   ],
   "source": [
    "i = 1001\n",
    "while True:\n",
    "    if (i + 3) % 31 == 0:\n",
    "        print(i)\n",
    "        break\n",
    "    i += 1001"
   ]
  },
  {
   "cell_type": "code",
   "execution_count": 186,
   "metadata": {},
   "outputs": [
    {
     "name": "stdout",
     "output_type": "stream",
     "text": [
      "35 37 41 41 35 37\n",
      "cycles 18\n",
      "41 379 779 1517 41 379\n",
      "cycles 317\n",
      "49 23 481668 574943 49 23\n",
      "cycles 13\n",
      "54 13 7955927 13223689 54 13\n",
      "cycles 10\n",
      "58 17 140192817 171907957 58 17\n",
      "cycles 3\n",
      "70 29 655916688 2922435269 70 29\n",
      "cycles 7\n",
      "72 557 21112963571 84750622801 72 557\n",
      "cycles 448\n",
      "91 19 37989391978419 47206096900157 91 19\n",
      "cycles 17\n",
      "840493039281088\n"
     ]
    }
   ],
   "source": [
    "def find(init, period, offset, div):\n",
    "    i = init\n",
    "    cycles = 0\n",
    "    while cycles < 100000:\n",
    "        if (i + offset) % div == 0:\n",
    "            print('cycles', cycles)\n",
    "            return i\n",
    "        i += period\n",
    "        cycles += 1\n",
    "\n",
    "\n",
    "_, busses = load('inputs/13-input')\n",
    "init = int(busses[0])\n",
    "period = int(busses[0])\n",
    "for i, bus in enumerate(busses[1:], 1):\n",
    "    if bus != 'x':\n",
    "        bus = int(bus)       \n",
    "        print(i, bus, init, period, i, bus)\n",
    "        init = find(init, period, i, bus)\n",
    "        period *= bus\n",
    "print(init)"
   ]
  },
  {
   "cell_type": "code",
   "execution_count": 169,
   "metadata": {},
   "outputs": [
    {
     "data": {
      "text/plain": [
       "['7', '13', 'x', 'x', '59', 'x', '31', '19']"
      ]
     },
     "execution_count": 169,
     "metadata": {},
     "output_type": "execute_result"
    }
   ],
   "source": [
    "busses"
   ]
  },
  {
   "cell_type": "code",
   "execution_count": null,
   "metadata": {},
   "outputs": [],
   "source": []
  }
 ],
 "metadata": {
  "kernelspec": {
   "display_name": "Python 3",
   "language": "python",
   "name": "python3"
  },
  "language_info": {
   "codemirror_mode": {
    "name": "ipython",
    "version": 3
   },
   "file_extension": ".py",
   "mimetype": "text/x-python",
   "name": "python",
   "nbconvert_exporter": "python",
   "pygments_lexer": "ipython3",
   "version": "3.7.7"
  }
 },
 "nbformat": 4,
 "nbformat_minor": 4
}
