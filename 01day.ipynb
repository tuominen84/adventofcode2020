{
 "cells": [
  {
   "cell_type": "code",
   "execution_count": 19,
   "metadata": {},
   "outputs": [],
   "source": [
    "import itertools"
   ]
  },
  {
   "cell_type": "code",
   "execution_count": 4,
   "metadata": {},
   "outputs": [],
   "source": [
    "input_file = 'day01-input.txt'\n",
    "\n",
    "test_input = \"\"\"1721\n",
    "979\n",
    "366\n",
    "299\n",
    "675\n",
    "1456\"\"\"\n"
   ]
  },
  {
   "cell_type": "code",
   "execution_count": 13,
   "metadata": {},
   "outputs": [],
   "source": [
    "def gen_input(is_test=False):\n",
    "    if not is_test:\n",
    "        with open(input_file, 'r') as f:\n",
    "            input_str = f.read()\n",
    "    else:\n",
    "        input_str = test_input\n",
    "        \n",
    "    return [int(x) for x in input_str.split()]"
   ]
  },
  {
   "cell_type": "markdown",
   "metadata": {},
   "source": [
    "# Part 1"
   ]
  },
  {
   "cell_type": "code",
   "execution_count": 27,
   "metadata": {},
   "outputs": [
    {
     "name": "stdout",
     "output_type": "stream",
     "text": [
      "684 1336 913824\n"
     ]
    }
   ],
   "source": [
    "numbers = gen_input(is_test=False)\n",
    "\n",
    "for x1, x2 in itertools.combinations(numbers, 2):\n",
    "    if x1 + x2 == 2020:\n",
    "        print(x1, x2, x1*x2)\n",
    "        break"
   ]
  },
  {
   "cell_type": "markdown",
   "metadata": {},
   "source": [
    "# Part 2"
   ]
  },
  {
   "cell_type": "code",
   "execution_count": 32,
   "metadata": {},
   "outputs": [
    {
     "name": "stdout",
     "output_type": "stream",
     "text": [
      "979 366 675 241861950\n"
     ]
    }
   ],
   "source": [
    "numbers = gen_input(is_test=True)\n",
    "\n",
    "for x1, x2, x3 in itertools.combinations(numbers, 3):\n",
    "    if x1 + x2 + x3 == 2020:\n",
    "        print(x1, x2, x3, x1*x2*x3)\n",
    "        break"
   ]
  },
  {
   "cell_type": "code",
   "execution_count": 35,
   "metadata": {},
   "outputs": [
    {
     "name": "stdout",
     "output_type": "stream",
     "text": [
      "1068 444 508 240889536\n"
     ]
    }
   ],
   "source": [
    "numbers = gen_input(is_test=False)\n",
    "\n",
    "for x1, x2, x3 in itertools.combinations(numbers, 3):\n",
    "    if x1 + x2 + x3 == 2020:\n",
    "        print(x1, x2, x3, x1*x2*x3)\n",
    "        break"
   ]
  },
  {
   "cell_type": "code",
   "execution_count": 36,
   "metadata": {},
   "outputs": [
    {
     "data": {
      "text/plain": [
       "200"
      ]
     },
     "execution_count": 36,
     "metadata": {},
     "output_type": "execute_result"
    }
   ],
   "source": [
    "len(numbers)"
   ]
  },
  {
   "cell_type": "code",
   "execution_count": 37,
   "metadata": {},
   "outputs": [
    {
     "data": {
      "text/plain": [
       "1313400"
      ]
     },
     "execution_count": 37,
     "metadata": {},
     "output_type": "execute_result"
    }
   ],
   "source": [
    "len(list(itertools.combinations(numbers, 3)))"
   ]
  },
  {
   "cell_type": "code",
   "execution_count": null,
   "metadata": {},
   "outputs": [],
   "source": []
  }
 ],
 "metadata": {
  "kernelspec": {
   "display_name": "Python 3",
   "language": "python",
   "name": "python3"
  },
  "language_info": {
   "codemirror_mode": {
    "name": "ipython",
    "version": 3
   },
   "file_extension": ".py",
   "mimetype": "text/x-python",
   "name": "python",
   "nbconvert_exporter": "python",
   "pygments_lexer": "ipython3",
   "version": "3.7.7"
  }
 },
 "nbformat": 4,
 "nbformat_minor": 4
}
